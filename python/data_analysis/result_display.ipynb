{
 "cells": [
  {
   "cell_type": "markdown",
   "metadata": {
    "id": "aOH9Wf3jarZc"
   },
   "source": [
    "#SIT720 Assignment 1\n",
    "###216327327\n",
    "###YANJUN CHEN\n",
    "###2021 T2"
   ]
  },
  {
   "cell_type": "code",
   "execution_count": 749,
   "metadata": {
    "colab": {
     "base_uri": "https://localhost:8080/"
    },
    "executionInfo": {
     "elapsed": 245,
     "status": "ok",
     "timestamp": 1627242345063,
     "user": {
      "displayName": "Sumeragi",
      "photoUrl": "https://lh3.googleusercontent.com/a-/AOh14GiDqXsUdoyY8WHqOWBAY8uQQVJs10lBqioTQGQ5ig=s64",
      "userId": "17264957305028452462"
     },
     "user_tz": -600
    },
    "id": "vbvGCJLmXNMW",
    "outputId": "59336730-c9ff-437e-a533-cc089a8fbc5a"
   },
   "outputs": [
    {
     "name": "stdout",
     "output_type": "stream",
     "text": [
      "Drive already mounted at /content/drive; to attempt to forcibly remount, call drive.mount(\"/content/drive\", force_remount=True).\n"
     ]
    }
   ],
   "source": [
    "from google.colab import drive\n",
    "drive.mount('/content/drive')"
   ]
  },
  {
   "cell_type": "code",
   "execution_count": 750,
   "metadata": {
    "executionInfo": {
     "elapsed": 451,
     "status": "ok",
     "timestamp": 1627242345788,
     "user": {
      "displayName": "Sumeragi",
      "photoUrl": "https://lh3.googleusercontent.com/a-/AOh14GiDqXsUdoyY8WHqOWBAY8uQQVJs10lBqioTQGQ5ig=s64",
      "userId": "17264957305028452462"
     },
     "user_tz": -600
    },
    "id": "KH1Qcy-hXhg9"
   },
   "outputs": [],
   "source": [
    "import pandas as pd\n",
    "import matplotlib.pyplot as mp\n",
    "import numpy as np\n",
    "import math"
   ]
  },
  {
   "cell_type": "markdown",
   "metadata": {
    "id": "sw4EhJmjaU3r"
   },
   "source": [
    "#Question 1\n",
    "###Load the data from supplied data file. Remove the observations/samples where the heart diseases are not diagnosed by the Cardiologists. Print the data dimension before and after removing the observations/samples."
   ]
  },
  {
   "cell_type": "code",
   "execution_count": 751,
   "metadata": {
    "colab": {
     "base_uri": "https://localhost:8080/",
     "height": 206
    },
    "executionInfo": {
     "elapsed": 21,
     "status": "ok",
     "timestamp": 1627242345789,
     "user": {
      "displayName": "Sumeragi",
      "photoUrl": "https://lh3.googleusercontent.com/a-/AOh14GiDqXsUdoyY8WHqOWBAY8uQQVJs10lBqioTQGQ5ig=s64",
      "userId": "17264957305028452462"
     },
     "user_tz": -600
    },
    "id": "YG8rdwAeaJ8n",
    "outputId": "dba159d0-53b7-4d59-ad5c-c8f96dd61806"
   },
   "outputs": [
    {
     "data": {
      "text/html": [
       "<div>\n",
       "<style scoped>\n",
       "    .dataframe tbody tr th:only-of-type {\n",
       "        vertical-align: middle;\n",
       "    }\n",
       "\n",
       "    .dataframe tbody tr th {\n",
       "        vertical-align: top;\n",
       "    }\n",
       "\n",
       "    .dataframe thead th {\n",
       "        text-align: right;\n",
       "    }\n",
       "</style>\n",
       "<table border=\"1\" class=\"dataframe\">\n",
       "  <thead>\n",
       "    <tr style=\"text-align: right;\">\n",
       "      <th></th>\n",
       "      <th>age</th>\n",
       "      <th>sex</th>\n",
       "      <th>cp</th>\n",
       "      <th>trestbps</th>\n",
       "      <th>chol</th>\n",
       "      <th>fbs</th>\n",
       "      <th>restecg</th>\n",
       "      <th>thalach</th>\n",
       "      <th>exang</th>\n",
       "      <th>oldpeak</th>\n",
       "      <th>slope</th>\n",
       "      <th>ca</th>\n",
       "      <th>thal</th>\n",
       "      <th>state</th>\n",
       "    </tr>\n",
       "  </thead>\n",
       "  <tbody>\n",
       "    <tr>\n",
       "      <th>0</th>\n",
       "      <td>63.0</td>\n",
       "      <td>M</td>\n",
       "      <td>tap</td>\n",
       "      <td>145.0</td>\n",
       "      <td>233.0</td>\n",
       "      <td>yes</td>\n",
       "      <td>2.0</td>\n",
       "      <td>150.0</td>\n",
       "      <td>0.0</td>\n",
       "      <td>2.3</td>\n",
       "      <td>3.0</td>\n",
       "      <td>0.0</td>\n",
       "      <td>6.0</td>\n",
       "      <td>0.0</td>\n",
       "    </tr>\n",
       "    <tr>\n",
       "      <th>1</th>\n",
       "      <td>67.0</td>\n",
       "      <td>M</td>\n",
       "      <td>asp</td>\n",
       "      <td>160.0</td>\n",
       "      <td>286.0</td>\n",
       "      <td>no</td>\n",
       "      <td>2.0</td>\n",
       "      <td>108.0</td>\n",
       "      <td>1.0</td>\n",
       "      <td>1.5</td>\n",
       "      <td>2.0</td>\n",
       "      <td>3.0</td>\n",
       "      <td>3.0</td>\n",
       "      <td>2.0</td>\n",
       "    </tr>\n",
       "    <tr>\n",
       "      <th>2</th>\n",
       "      <td>67.0</td>\n",
       "      <td>M</td>\n",
       "      <td>asp</td>\n",
       "      <td>120.0</td>\n",
       "      <td>229.0</td>\n",
       "      <td>no</td>\n",
       "      <td>2.0</td>\n",
       "      <td>129.0</td>\n",
       "      <td>1.0</td>\n",
       "      <td>2.6</td>\n",
       "      <td>2.0</td>\n",
       "      <td>2.0</td>\n",
       "      <td>7.0</td>\n",
       "      <td>1.0</td>\n",
       "    </tr>\n",
       "    <tr>\n",
       "      <th>3</th>\n",
       "      <td>37.0</td>\n",
       "      <td>M</td>\n",
       "      <td>nap</td>\n",
       "      <td>130.0</td>\n",
       "      <td>250.0</td>\n",
       "      <td>no</td>\n",
       "      <td>0.0</td>\n",
       "      <td>187.0</td>\n",
       "      <td>0.0</td>\n",
       "      <td>3.5</td>\n",
       "      <td>3.0</td>\n",
       "      <td>0.0</td>\n",
       "      <td>3.0</td>\n",
       "      <td>0.0</td>\n",
       "    </tr>\n",
       "    <tr>\n",
       "      <th>4</th>\n",
       "      <td>41.0</td>\n",
       "      <td>F</td>\n",
       "      <td>aap</td>\n",
       "      <td>130.0</td>\n",
       "      <td>204.0</td>\n",
       "      <td>no</td>\n",
       "      <td>2.0</td>\n",
       "      <td>172.0</td>\n",
       "      <td>0.0</td>\n",
       "      <td>1.4</td>\n",
       "      <td>1.0</td>\n",
       "      <td>0.0</td>\n",
       "      <td>3.0</td>\n",
       "      <td>0.0</td>\n",
       "    </tr>\n",
       "  </tbody>\n",
       "</table>\n",
       "</div>"
      ],
      "text/plain": [
       "    age sex   cp  trestbps   chol  fbs  ...  exang  oldpeak  slope   ca  thal  state\n",
       "0  63.0   M  tap     145.0  233.0  yes  ...    0.0      2.3    3.0  0.0   6.0    0.0\n",
       "1  67.0   M  asp     160.0  286.0   no  ...    1.0      1.5    2.0  3.0   3.0    2.0\n",
       "2  67.0   M  asp     120.0  229.0   no  ...    1.0      2.6    2.0  2.0   7.0    1.0\n",
       "3  37.0   M  nap     130.0  250.0   no  ...    0.0      3.5    3.0  0.0   3.0    0.0\n",
       "4  41.0   F  aap     130.0  204.0   no  ...    0.0      1.4    1.0  0.0   3.0    0.0\n",
       "\n",
       "[5 rows x 14 columns]"
      ]
     },
     "execution_count": 751,
     "metadata": {
      "tags": []
     },
     "output_type": "execute_result"
    }
   ],
   "source": [
    "dtemp = pd.read_csv(\n",
    "    '/content/drive/MyDrive/2021SIT720_assessment_1/A1_heart_disease_dataset.csv'\n",
    "    ,sep=','\n",
    "    )\n",
    "dtemp.head()"
   ]
  },
  {
   "cell_type": "code",
   "execution_count": 752,
   "metadata": {
    "colab": {
     "base_uri": "https://localhost:8080/",
     "height": 206
    },
    "executionInfo": {
     "elapsed": 20,
     "status": "ok",
     "timestamp": 1627242345790,
     "user": {
      "displayName": "Sumeragi",
      "photoUrl": "https://lh3.googleusercontent.com/a-/AOh14GiDqXsUdoyY8WHqOWBAY8uQQVJs10lBqioTQGQ5ig=s64",
      "userId": "17264957305028452462"
     },
     "user_tz": -600
    },
    "id": "vu8dU2DObRIC",
    "outputId": "e606e715-55d3-4782-a31c-f7e3a8232483"
   },
   "outputs": [
    {
     "data": {
      "text/html": [
       "<div>\n",
       "<style scoped>\n",
       "    .dataframe tbody tr th:only-of-type {\n",
       "        vertical-align: middle;\n",
       "    }\n",
       "\n",
       "    .dataframe tbody tr th {\n",
       "        vertical-align: top;\n",
       "    }\n",
       "\n",
       "    .dataframe thead th {\n",
       "        text-align: right;\n",
       "    }\n",
       "</style>\n",
       "<table border=\"1\" class=\"dataframe\">\n",
       "  <thead>\n",
       "    <tr style=\"text-align: right;\">\n",
       "      <th></th>\n",
       "      <th>age</th>\n",
       "      <th>sex</th>\n",
       "      <th>cp</th>\n",
       "      <th>trestbps</th>\n",
       "      <th>chol</th>\n",
       "      <th>fbs</th>\n",
       "      <th>restecg</th>\n",
       "      <th>thalach</th>\n",
       "      <th>exang</th>\n",
       "      <th>oldpeak</th>\n",
       "      <th>slope</th>\n",
       "      <th>ca</th>\n",
       "      <th>thal</th>\n",
       "      <th>state</th>\n",
       "    </tr>\n",
       "  </thead>\n",
       "  <tbody>\n",
       "    <tr>\n",
       "      <th>1</th>\n",
       "      <td>67.0</td>\n",
       "      <td>M</td>\n",
       "      <td>asp</td>\n",
       "      <td>160.0</td>\n",
       "      <td>286.0</td>\n",
       "      <td>no</td>\n",
       "      <td>2.0</td>\n",
       "      <td>108.0</td>\n",
       "      <td>1.0</td>\n",
       "      <td>1.5</td>\n",
       "      <td>2.0</td>\n",
       "      <td>3.0</td>\n",
       "      <td>3.0</td>\n",
       "      <td>2.0</td>\n",
       "    </tr>\n",
       "    <tr>\n",
       "      <th>2</th>\n",
       "      <td>67.0</td>\n",
       "      <td>M</td>\n",
       "      <td>asp</td>\n",
       "      <td>120.0</td>\n",
       "      <td>229.0</td>\n",
       "      <td>no</td>\n",
       "      <td>2.0</td>\n",
       "      <td>129.0</td>\n",
       "      <td>1.0</td>\n",
       "      <td>2.6</td>\n",
       "      <td>2.0</td>\n",
       "      <td>2.0</td>\n",
       "      <td>7.0</td>\n",
       "      <td>1.0</td>\n",
       "    </tr>\n",
       "    <tr>\n",
       "      <th>6</th>\n",
       "      <td>62.0</td>\n",
       "      <td>F</td>\n",
       "      <td>NaN</td>\n",
       "      <td>140.0</td>\n",
       "      <td>268.0</td>\n",
       "      <td>no</td>\n",
       "      <td>2.0</td>\n",
       "      <td>160.0</td>\n",
       "      <td>0.0</td>\n",
       "      <td>3.6</td>\n",
       "      <td>3.0</td>\n",
       "      <td>2.0</td>\n",
       "      <td>3.0</td>\n",
       "      <td>3.0</td>\n",
       "    </tr>\n",
       "    <tr>\n",
       "      <th>8</th>\n",
       "      <td>63.0</td>\n",
       "      <td>M</td>\n",
       "      <td>asp</td>\n",
       "      <td>130.0</td>\n",
       "      <td>254.0</td>\n",
       "      <td>no</td>\n",
       "      <td>2.0</td>\n",
       "      <td>147.0</td>\n",
       "      <td>0.0</td>\n",
       "      <td>1.4</td>\n",
       "      <td>2.0</td>\n",
       "      <td>1.0</td>\n",
       "      <td>7.0</td>\n",
       "      <td>2.0</td>\n",
       "    </tr>\n",
       "    <tr>\n",
       "      <th>9</th>\n",
       "      <td>53.0</td>\n",
       "      <td>M</td>\n",
       "      <td>asp</td>\n",
       "      <td>140.0</td>\n",
       "      <td>203.0</td>\n",
       "      <td>yes</td>\n",
       "      <td>2.0</td>\n",
       "      <td>155.0</td>\n",
       "      <td>1.0</td>\n",
       "      <td>3.1</td>\n",
       "      <td>3.0</td>\n",
       "      <td>0.0</td>\n",
       "      <td>7.0</td>\n",
       "      <td>1.0</td>\n",
       "    </tr>\n",
       "  </tbody>\n",
       "</table>\n",
       "</div>"
      ],
      "text/plain": [
       "    age sex   cp  trestbps   chol  fbs  ...  exang  oldpeak  slope   ca  thal  state\n",
       "1  67.0   M  asp     160.0  286.0   no  ...    1.0      1.5    2.0  3.0   3.0    2.0\n",
       "2  67.0   M  asp     120.0  229.0   no  ...    1.0      2.6    2.0  2.0   7.0    1.0\n",
       "6  62.0   F  NaN     140.0  268.0   no  ...    0.0      3.6    3.0  2.0   3.0    3.0\n",
       "8  63.0   M  asp     130.0  254.0   no  ...    0.0      1.4    2.0  1.0   7.0    2.0\n",
       "9  53.0   M  asp     140.0  203.0  yes  ...    1.0      3.1    3.0  0.0   7.0    1.0\n",
       "\n",
       "[5 rows x 14 columns]"
      ]
     },
     "execution_count": 752,
     "metadata": {
      "tags": []
     },
     "output_type": "execute_result"
    }
   ],
   "source": [
    "dtemp_1 = dtemp[\n",
    "    (dtemp.state!=0)\n",
    "]\n",
    "dtemp_1.head()"
   ]
  },
  {
   "cell_type": "code",
   "execution_count": 753,
   "metadata": {
    "colab": {
     "base_uri": "https://localhost:8080/"
    },
    "executionInfo": {
     "elapsed": 19,
     "status": "ok",
     "timestamp": 1627242345790,
     "user": {
      "displayName": "Sumeragi",
      "photoUrl": "https://lh3.googleusercontent.com/a-/AOh14GiDqXsUdoyY8WHqOWBAY8uQQVJs10lBqioTQGQ5ig=s64",
      "userId": "17264957305028452462"
     },
     "user_tz": -600
    },
    "id": "wxTMc143m3Za",
    "outputId": "dff14a25-3ae3-4b59-f3f6-167e6dbf039c"
   },
   "outputs": [
    {
     "name": "stdout",
     "output_type": "stream",
     "text": [
      "the data dimension before removing samples is (303, 14)\n",
      "the data dimension after removing samples is (143, 14)\n"
     ]
    }
   ],
   "source": [
    "print('the data dimension before removing samples is {}'.format(dtemp.shape))\n",
    "print('the data dimension after removing samples is {}'.format(dtemp_1.shape))"
   ]
  },
  {
   "cell_type": "markdown",
   "metadata": {
    "id": "P3-3rGXKn4ND"
   },
   "source": [
    "#Question 2\n",
    "###Continue from question 1. Display the number of rows and their indices that have missing data in one or more cells. Now, replace the missing data by the lowest value of the corresponding feature if it is a continuous variable. In case of categorical variable, remove the sample. Print the median values of all features before and after replacing missing data."
   ]
  },
  {
   "cell_type": "code",
   "execution_count": 754,
   "metadata": {
    "colab": {
     "base_uri": "https://localhost:8080/"
    },
    "executionInfo": {
     "elapsed": 16,
     "status": "ok",
     "timestamp": 1627242345790,
     "user": {
      "displayName": "Sumeragi",
      "photoUrl": "https://lh3.googleusercontent.com/a-/AOh14GiDqXsUdoyY8WHqOWBAY8uQQVJs10lBqioTQGQ5ig=s64",
      "userId": "17264957305028452462"
     },
     "user_tz": -600
    },
    "id": "D-kr_G1loBU4",
    "outputId": "fb56d1f0-2efa-4c67-f4e2-15f3c177d119"
   },
   "outputs": [
    {
     "name": "stdout",
     "output_type": "stream",
     "text": [
      "row 6 has 1 missing data\n",
      "row 16 has 14 missing data\n",
      "row 55 has 14 missing data\n",
      "row 67 has 1 missing data\n",
      "row 114 has 14 missing data\n",
      "row 165 has 2 missing data\n",
      "row 187 has 14 missing data\n",
      "row 201 has 14 missing data\n",
      "row 212 has 14 missing data\n",
      "row 213 has 14 missing data\n",
      "row 223 has 1 missing data\n",
      "row 228 has 1 missing data\n",
      "row 290 has 1 missing data\n",
      "row 300 has 14 missing data\n",
      "There are totally 14 rows have missing data\n"
     ]
    }
   ],
   "source": [
    "sum = 0\n",
    "for rows in range(0, len(dtemp_1)):\n",
    "  na = dtemp_1.iloc[rows].isnull().sum()\n",
    "  if na!=0:\n",
    "    print('row {rows} has {na} missing data'.format(rows=dtemp_1.index[rows], na=na))\n",
    "    sum+=1\n",
    "print('There are totally {} rows have missing data'.format(sum))"
   ]
  },
  {
   "cell_type": "code",
   "execution_count": 755,
   "metadata": {
    "executionInfo": {
     "elapsed": 16,
     "status": "ok",
     "timestamp": 1627242345791,
     "user": {
      "displayName": "Sumeragi",
      "photoUrl": "https://lh3.googleusercontent.com/a-/AOh14GiDqXsUdoyY8WHqOWBAY8uQQVJs10lBqioTQGQ5ig=s64",
      "userId": "17264957305028452462"
     },
     "user_tz": -600
    },
    "id": "JfrGHlM17nnO"
   },
   "outputs": [],
   "source": [
    "dmeans = dtemp_1.mean()"
   ]
  },
  {
   "cell_type": "code",
   "execution_count": 756,
   "metadata": {
    "colab": {
     "base_uri": "https://localhost:8080/"
    },
    "executionInfo": {
     "elapsed": 16,
     "status": "ok",
     "timestamp": 1627242345791,
     "user": {
      "displayName": "Sumeragi",
      "photoUrl": "https://lh3.googleusercontent.com/a-/AOh14GiDqXsUdoyY8WHqOWBAY8uQQVJs10lBqioTQGQ5ig=s64",
      "userId": "17264957305028452462"
     },
     "user_tz": -600
    },
    "id": "c89k-mWYKuSQ",
    "outputId": "abc96ba5-b669-42eb-f3bc-5d9f045d7fbe"
   },
   "outputs": [
    {
     "name": "stderr",
     "output_type": "stream",
     "text": [
      "/usr/local/lib/python3.7/dist-packages/pandas/core/series.py:4536: SettingWithCopyWarning: \n",
      "A value is trying to be set on a copy of a slice from a DataFrame\n",
      "\n",
      "See the caveats in the documentation: https://pandas.pydata.org/pandas-docs/stable/user_guide/indexing.html#returning-a-view-versus-a-copy\n",
      "  downcast=downcast,\n"
     ]
    }
   ],
   "source": [
    "for each in dtemp_1.columns:\n",
    "  a = dtemp_1[each].dtypes\n",
    "  if a == 'float64':\n",
    "    b = dtemp_1[each].min()\n",
    "    dtemp_1[each].fillna(b, inplace=True)\n",
    "ds = dtemp_1.dropna(axis=0, how='any')"
   ]
  },
  {
   "cell_type": "code",
   "execution_count": 757,
   "metadata": {
    "colab": {
     "base_uri": "https://localhost:8080/"
    },
    "executionInfo": {
     "elapsed": 16,
     "status": "ok",
     "timestamp": 1627242345791,
     "user": {
      "displayName": "Sumeragi",
      "photoUrl": "https://lh3.googleusercontent.com/a-/AOh14GiDqXsUdoyY8WHqOWBAY8uQQVJs10lBqioTQGQ5ig=s64",
      "userId": "17264957305028452462"
     },
     "user_tz": -600
    },
    "id": "894YXq2TJe-l",
    "outputId": "8c15fdd5-d2d7-4014-9325-6aea65b776c2"
   },
   "outputs": [
    {
     "name": "stdout",
     "output_type": "stream",
     "text": [
      "The median values of all features before replacing missing data is:\n",
      "age          56.511111\n",
      "trestbps    134.481481\n",
      "chol        252.425373\n",
      "restecg       1.207407\n",
      "thalach     140.044776\n",
      "exang         0.540741\n",
      "oldpeak       1.583704\n",
      "slope         1.800000\n",
      "ca            1.105263\n",
      "thal          5.770370\n",
      "state         2.045113\n",
      "dtype: float64\n",
      "\n",
      "The median values of all features after replacing missing data is:\n"
     ]
    },
    {
     "data": {
      "text/plain": [
       "age          56.470149\n",
       "trestbps    134.440299\n",
       "chol        251.537313\n",
       "restecg       1.201493\n",
       "thalach     139.380597\n",
       "exang         0.544776\n",
       "oldpeak       1.568657\n",
       "slope         1.791045\n",
       "ca            1.082090\n",
       "thal          5.791045\n",
       "state         2.022388\n",
       "dtype: float64"
      ]
     },
     "execution_count": 757,
     "metadata": {
      "tags": []
     },
     "output_type": "execute_result"
    }
   ],
   "source": [
    "print('The median values of all features before replacing missing data is:')\n",
    "print(dmeans)\n",
    "print('')\n",
    "print('The median values of all features after replacing missing data is:')\n",
    "ds.mean()"
   ]
  },
  {
   "cell_type": "markdown",
   "metadata": {
    "id": "r5KbLhi4LR2Y"
   },
   "source": [
    "#Question 3\n",
    "###Continue from question 2. Is there any change in data type? If yes, convert them back to appropriate data types. Print all variables with corresponding data type."
   ]
  },
  {
   "cell_type": "code",
   "execution_count": 758,
   "metadata": {
    "colab": {
     "base_uri": "https://localhost:8080/"
    },
    "executionInfo": {
     "elapsed": 15,
     "status": "ok",
     "timestamp": 1627242345791,
     "user": {
      "displayName": "Sumeragi",
      "photoUrl": "https://lh3.googleusercontent.com/a-/AOh14GiDqXsUdoyY8WHqOWBAY8uQQVJs10lBqioTQGQ5ig=s64",
      "userId": "17264957305028452462"
     },
     "user_tz": -600
    },
    "id": "Ij0FoKPiLa_O",
    "outputId": "4605b1e2-60cb-4ed6-9e79-5e047cc32fc1"
   },
   "outputs": [
    {
     "data": {
      "text/plain": [
       "age         float64\n",
       "sex          object\n",
       "cp           object\n",
       "trestbps    float64\n",
       "chol        float64\n",
       "fbs          object\n",
       "restecg     float64\n",
       "thalach     float64\n",
       "exang       float64\n",
       "oldpeak     float64\n",
       "slope       float64\n",
       "ca          float64\n",
       "thal        float64\n",
       "state       float64\n",
       "dtype: object"
      ]
     },
     "execution_count": 758,
     "metadata": {
      "tags": []
     },
     "output_type": "execute_result"
    }
   ],
   "source": [
    "ds.dtypes # this is the dataset without empty value"
   ]
  },
  {
   "cell_type": "code",
   "execution_count": 759,
   "metadata": {
    "colab": {
     "base_uri": "https://localhost:8080/"
    },
    "executionInfo": {
     "elapsed": 14,
     "status": "ok",
     "timestamp": 1627242345791,
     "user": {
      "displayName": "Sumeragi",
      "photoUrl": "https://lh3.googleusercontent.com/a-/AOh14GiDqXsUdoyY8WHqOWBAY8uQQVJs10lBqioTQGQ5ig=s64",
      "userId": "17264957305028452462"
     },
     "user_tz": -600
    },
    "id": "aOwInpDGMHQR",
    "outputId": "c2419ebe-faf7-470f-f368-968e05839b99"
   },
   "outputs": [
    {
     "data": {
      "text/plain": [
       "age         float64\n",
       "sex          object\n",
       "cp           object\n",
       "trestbps    float64\n",
       "chol        float64\n",
       "fbs          object\n",
       "restecg     float64\n",
       "thalach     float64\n",
       "exang       float64\n",
       "oldpeak     float64\n",
       "slope       float64\n",
       "ca          float64\n",
       "thal        float64\n",
       "state       float64\n",
       "dtype: object"
      ]
     },
     "execution_count": 759,
     "metadata": {
      "tags": []
     },
     "output_type": "execute_result"
    }
   ],
   "source": [
    "dtemp.dtypes # this is the dataset copy from .csv file in question 1"
   ]
  },
  {
   "cell_type": "code",
   "execution_count": 760,
   "metadata": {
    "colab": {
     "base_uri": "https://localhost:8080/"
    },
    "executionInfo": {
     "elapsed": 13,
     "status": "ok",
     "timestamp": 1627242345791,
     "user": {
      "displayName": "Sumeragi",
      "photoUrl": "https://lh3.googleusercontent.com/a-/AOh14GiDqXsUdoyY8WHqOWBAY8uQQVJs10lBqioTQGQ5ig=s64",
      "userId": "17264957305028452462"
     },
     "user_tz": -600
    },
    "id": "tSqudp9IMv1K",
    "outputId": "98978b52-f0e9-4abc-d9fc-e21b440025ed"
   },
   "outputs": [
    {
     "name": "stdout",
     "output_type": "stream",
     "text": [
      "There is not change on data type so skip this question.\n"
     ]
    }
   ],
   "source": [
    "print('There is not change on data type so skip this question.')"
   ]
  },
  {
   "cell_type": "markdown",
   "metadata": {
    "id": "J_UXo12ZM3gT"
   },
   "source": [
    "#Question 4\n",
    "###Continue from question 3. Print the total numbers and ration of male and female patients who are at highest risk of heart disease."
   ]
  },
  {
   "cell_type": "code",
   "execution_count": 761,
   "metadata": {
    "executionInfo": {
     "elapsed": 12,
     "status": "ok",
     "timestamp": 1627242345791,
     "user": {
      "displayName": "Sumeragi",
      "photoUrl": "https://lh3.googleusercontent.com/a-/AOh14GiDqXsUdoyY8WHqOWBAY8uQQVJs10lBqioTQGQ5ig=s64",
      "userId": "17264957305028452462"
     },
     "user_tz": -600
    },
    "id": "NINFQiZhNAhF"
   },
   "outputs": [],
   "source": [
    "a = ds.loc[ds['sex']=='M']\n",
    "b = ds.loc[ds['sex']=='F']\n",
    "c = ds.loc[(ds['sex']=='M') & (ds['state']==4)]\n",
    "d = ds.loc[(ds['sex']=='F') & (ds['state']==4)]"
   ]
  },
  {
   "cell_type": "code",
   "execution_count": 762,
   "metadata": {
    "colab": {
     "base_uri": "https://localhost:8080/"
    },
    "executionInfo": {
     "elapsed": 14,
     "status": "ok",
     "timestamp": 1627242345793,
     "user": {
      "displayName": "Sumeragi",
      "photoUrl": "https://lh3.googleusercontent.com/a-/AOh14GiDqXsUdoyY8WHqOWBAY8uQQVJs10lBqioTQGQ5ig=s64",
      "userId": "17264957305028452462"
     },
     "user_tz": -600
    },
    "id": "uvgYDR7gYY4l",
    "outputId": "8dd78ded-ccbd-4a67-d13c-4d0058253095"
   },
   "outputs": [
    {
     "name": "stdout",
     "output_type": "stream",
     "text": [
      "There are 112 male patients, 9.82143% which is also 11 of them are at highest risk of heart disease.\n",
      "There are 22 female patients, 9.09091% which is also 2 of them are at highest risk of heart disease.\n"
     ]
    }
   ],
   "source": [
    "print(\n",
    "    'There are {a} male patients, {c}% which is also {e} of them are at highest risk of heart disease.'.format(\n",
    "        a = len(a)\n",
    "        ,c = round(len(c)/len(a)*100,5)\n",
    "        ,e = len(c)\n",
    "        )\n",
    "    )\n",
    "\n",
    "print(\n",
    "    'There are {b} female patients, {d}% which is also {f} of them are at highest risk of heart disease.'.format(\n",
    "        b = len(b)\n",
    "        ,d = round(len(d)/len(b)*100,5)\n",
    "        ,f = len(d)\n",
    "        )\n",
    "    )"
   ]
  },
  {
   "cell_type": "markdown",
   "metadata": {
    "id": "p8VUXZXAsV6G"
   },
   "source": [
    "#Question 5\n",
    "###Continue from question 3. Is there any association between heart rate and severity of heart disease?  Explain your results from given dataset. "
   ]
  },
  {
   "cell_type": "code",
   "execution_count": 763,
   "metadata": {
    "colab": {
     "base_uri": "https://localhost:8080/"
    },
    "executionInfo": {
     "elapsed": 13,
     "status": "ok",
     "timestamp": 1627242345793,
     "user": {
      "displayName": "Sumeragi",
      "photoUrl": "https://lh3.googleusercontent.com/a-/AOh14GiDqXsUdoyY8WHqOWBAY8uQQVJs10lBqioTQGQ5ig=s64",
      "userId": "17264957305028452462"
     },
     "user_tz": -600
    },
    "id": "9to5OoGTnJ5Q",
    "outputId": "10de3540-75c2-42f3-dc51-357195d4ea85"
   },
   "outputs": [
    {
     "name": "stderr",
     "output_type": "stream",
     "text": [
      "/usr/local/lib/python3.7/dist-packages/ipykernel_launcher.py:6: SettingWithCopyWarning: \n",
      "A value is trying to be set on a copy of a slice from a DataFrame.\n",
      "Try using .loc[row_indexer,col_indexer] = value instead\n",
      "\n",
      "See the caveats in the documentation: https://pandas.pydata.org/pandas-docs/stable/user_guide/indexing.html#returning-a-view-versus-a-copy\n",
      "  \n"
     ]
    },
    {
     "data": {
      "text/plain": [
       "thalach_group  state\n",
       "80             1.0       1\n",
       "               2.0       1\n",
       "90             1.0       1\n",
       "               3.0       1\n",
       "100            1.0       1\n",
       "               3.0       2\n",
       "110            1.0       3\n",
       "               2.0       3\n",
       "               3.0       2\n",
       "120            1.0       2\n",
       "               2.0       3\n",
       "               3.0       6\n",
       "               4.0       1\n",
       "130            1.0       5\n",
       "               2.0       2\n",
       "               3.0       6\n",
       "               4.0       4\n",
       "140            1.0       5\n",
       "               2.0       5\n",
       "               3.0       5\n",
       "               4.0       3\n",
       "150            1.0      10\n",
       "               2.0      13\n",
       "               3.0       4\n",
       "               4.0       1\n",
       "160            1.0      11\n",
       "               2.0       4\n",
       "               3.0       2\n",
       "               4.0       1\n",
       "170            1.0       9\n",
       "               2.0       3\n",
       "               3.0       3\n",
       "               4.0       2\n",
       "180            1.0       5\n",
       "               3.0       1\n",
       "190            1.0       1\n",
       "               4.0       1\n",
       "200            1.0       1\n",
       "Name: state, dtype: int64"
      ]
     },
     "execution_count": 763,
     "metadata": {
      "tags": []
     },
     "output_type": "execute_result"
    }
   ],
   "source": [
    "a = []\n",
    "for each in ds['thalach'].values:\n",
    "  a.append(\n",
    "          math.ceil(each/10) * 10\n",
    "      )\n",
    "ds['thalach_group'] = a\n",
    "ds[['thalach_group', 'state']].groupby(['thalach_group','state'])['state'].count()"
   ]
  },
  {
   "cell_type": "code",
   "execution_count": 764,
   "metadata": {
    "colab": {
     "base_uri": "https://localhost:8080/",
     "height": 0
    },
    "executionInfo": {
     "elapsed": 409,
     "status": "ok",
     "timestamp": 1627242346190,
     "user": {
      "displayName": "Sumeragi",
      "photoUrl": "https://lh3.googleusercontent.com/a-/AOh14GiDqXsUdoyY8WHqOWBAY8uQQVJs10lBqioTQGQ5ig=s64",
      "userId": "17264957305028452462"
     },
     "user_tz": -600
    },
    "id": "eeCDNd8csbky",
    "outputId": "2a43613f-98fe-49ec-e3fc-01126a8892f2"
   },
   "outputs": [
    {
     "data": {
      "text/plain": [
       "<function matplotlib.pyplot.show>"
      ]
     },
     "execution_count": 764,
     "metadata": {
      "tags": []
     },
     "output_type": "execute_result"
    },
    {
     "data": {
      "image/png": "[encoded data removed]",
      "text/plain": [
       "<Figure size 432x288 with 1 Axes>"
      ]
     },
     "metadata": {
      "needs_background": "light",
      "tags": []
     },
     "output_type": "display_data"
    }
   ],
   "source": [
    "mp.figure()\n",
    "mp.scatter(ds['state'].values, ds['thalach'].values)\n",
    "mp.show"
   ]
  },
  {
   "cell_type": "markdown",
   "metadata": {
    "id": "vMi4YJdAlt3b"
   },
   "source": [
    "###According to above two graphes, most of patients, especially for those who has higher heart disease risk state, has heart rate from 120 to 170.\n"
   ]
  },
  {
   "cell_type": "markdown",
   "metadata": {
    "id": "E6PosJlLXVIf"
   },
   "source": [
    "#Question 6\n",
    "###Continue from question 3. Print the average cholesterol level for different number of blocked blood  vessels across gender. Please report the pattern found in the result, if any. "
   ]
  },
  {
   "cell_type": "code",
   "execution_count": 765,
   "metadata": {
    "colab": {
     "base_uri": "https://localhost:8080/"
    },
    "executionInfo": {
     "elapsed": 8,
     "status": "ok",
     "timestamp": 1627242346190,
     "user": {
      "displayName": "Sumeragi",
      "photoUrl": "https://lh3.googleusercontent.com/a-/AOh14GiDqXsUdoyY8WHqOWBAY8uQQVJs10lBqioTQGQ5ig=s64",
      "userId": "17264957305028452462"
     },
     "user_tz": -600
    },
    "id": "uXYNX8_TZVG8",
    "outputId": "ea924b87-dff4-49d8-ca26-93f619ee4354"
   },
   "outputs": [
    {
     "name": "stdout",
     "output_type": "stream",
     "text": [
      "The average cholesterol level for male patients that has 0 number of blocked blood vessels is:\n",
      "242.53846153846155\n",
      "The average cholesterol level for male patients that has 1 number of blocked blood vessels is:\n",
      "243.0\n",
      "The average cholesterol level for male patients that has 2 number of blocked blood vessels is:\n",
      "243.72727272727272\n",
      "The average cholesterol level for male patients that has 3 number of blocked blood vessels is:\n",
      "271.9166666666667\n",
      "\n",
      "The average cholesterol level for female patients that has 0 number of blocked blood vessels is:\n",
      "284.6\n",
      "The average cholesterol level for female patients that has 1 number of blocked blood vessels is:\n",
      "220.5\n",
      "The average cholesterol level for female patients that has 2 number of blocked blood vessels is:\n",
      "294.6666666666667\n",
      "The average cholesterol level for female patients that has 3 number of blocked blood vessels is:\n",
      "272.5\n"
     ]
    }
   ],
   "source": [
    "for each in range(0,4):\n",
    "  a = ds.loc[(ds['sex']=='M') & (ds['ca']==each)]\n",
    "  print('The average cholesterol level for male patients that has {each} number of blocked blood vessels is:'.format(\n",
    "      each = each\n",
    "  ))\n",
    "  print(a['chol'].mean())\n",
    "print('')\n",
    "for each in range(0,4):\n",
    "  a = ds.loc[(ds['sex']=='F') & (ds['ca']==each)]\n",
    "  print('The average cholesterol level for female patients that has {each} number of blocked blood vessels is:'.format(\n",
    "      each = each\n",
    "  ))\n",
    "  print(a['chol'].mean())"
   ]
  },
  {
   "cell_type": "markdown",
   "metadata": {
    "id": "VsiQ-KkUulPc"
   },
   "source": [
    "###According to the result, patients with higher cholesterol level have higher probability to have blocked blood vessels.\n",
    "###print('Female patients with higher cholesterol level have higher probability to have blocked blood vessels than male patients.')"
   ]
  },
  {
   "cell_type": "markdown",
   "metadata": {
    "id": "yIqj2pc7r4p3"
   },
   "source": [
    "#question 7\n",
    "###Print the percentage of patients at risk of heart disease having abnormality in both ECG and blood sugar  with asymptomatic chest pain."
   ]
  },
  {
   "cell_type": "code",
   "execution_count": 766,
   "metadata": {
    "colab": {
     "base_uri": "https://localhost:8080/"
    },
    "executionInfo": {
     "elapsed": 7,
     "status": "ok",
     "timestamp": 1627242346190,
     "user": {
      "displayName": "Sumeragi",
      "photoUrl": "https://lh3.googleusercontent.com/a-/AOh14GiDqXsUdoyY8WHqOWBAY8uQQVJs10lBqioTQGQ5ig=s64",
      "userId": "17264957305028452462"
     },
     "user_tz": -600
    },
    "id": "TmgH_98Ur-S7",
    "outputId": "a47be078-9a75-4e8a-fa5c-7fdaccff734b"
   },
   "outputs": [
    {
     "name": "stdout",
     "output_type": "stream",
     "text": [
      "the percentage of patients at risk of heart disease having abnormality in both ECG and blood sugar with asymptomatic chest pain is:\n",
      "8.20896 %\n"
     ]
    }
   ],
   "source": [
    "a = ds.loc[\n",
    "           (ds['cp']=='asp') \n",
    "           & (ds['fbs']=='yes') \n",
    "           & (ds['restecg']!=0)\n",
    "           ]\n",
    "print('the percentage of patients at risk of heart disease having abnormality in both ECG and blood sugar with asymptomatic chest pain is:')\n",
    "print(round(len(a)/len(ds)*100, 5),'%')"
   ]
  },
  {
   "cell_type": "markdown",
   "metadata": {
    "id": "hBFcNVNbwMRR"
   },
   "source": [
    "#Question 8\n",
    "###Calculate and print the average blood pressure of all observations with non-flat ST slopes of ECG. \n"
   ]
  },
  {
   "cell_type": "code",
   "execution_count": 767,
   "metadata": {
    "colab": {
     "base_uri": "https://localhost:8080/"
    },
    "executionInfo": {
     "elapsed": 7,
     "status": "ok",
     "timestamp": 1627242346190,
     "user": {
      "displayName": "Sumeragi",
      "photoUrl": "https://lh3.googleusercontent.com/a-/AOh14GiDqXsUdoyY8WHqOWBAY8uQQVJs10lBqioTQGQ5ig=s64",
      "userId": "17264957305028452462"
     },
     "user_tz": -600
    },
    "id": "Xq9JHf3BwQ7D",
    "outputId": "08918255-ba74-4682-ac62-694893d044f7"
   },
   "outputs": [
    {
     "name": "stdout",
     "output_type": "stream",
     "text": [
      "the average blood pressure of all observations with non-flat ST slopes of ECG is:\n",
      "136.91463414634146\n"
     ]
    }
   ],
   "source": [
    "print('the average blood pressure of all observations with non-flat ST slopes of ECG is:')\n",
    "print(ds.loc[ds['restecg']!=0]['trestbps'].mean())"
   ]
  },
  {
   "cell_type": "markdown",
   "metadata": {
    "id": "RECF1Elu9V1Y"
   },
   "source": [
    "#Question 9\n",
    "###Create and print a dataframe of the heart rate, blood pressure and cholesterol levels for different age  groups (based on 10 years interval)."
   ]
  },
  {
   "cell_type": "code",
   "execution_count": 768,
   "metadata": {
    "colab": {
     "base_uri": "https://localhost:8080/",
     "height": 0
    },
    "executionInfo": {
     "elapsed": 7,
     "status": "ok",
     "timestamp": 1627242346191,
     "user": {
      "displayName": "Sumeragi",
      "photoUrl": "https://lh3.googleusercontent.com/a-/AOh14GiDqXsUdoyY8WHqOWBAY8uQQVJs10lBqioTQGQ5ig=s64",
      "userId": "17264957305028452462"
     },
     "user_tz": -600
    },
    "id": "sIXRWNh-9a6t",
    "outputId": "505df2d7-5ccf-4671-b777-4beddec2be04"
   },
   "outputs": [
    {
     "name": "stderr",
     "output_type": "stream",
     "text": [
      "/usr/local/lib/python3.7/dist-packages/ipykernel_launcher.py:6: SettingWithCopyWarning: \n",
      "A value is trying to be set on a copy of a slice from a DataFrame.\n",
      "Try using .loc[row_indexer,col_indexer] = value instead\n",
      "\n",
      "See the caveats in the documentation: https://pandas.pydata.org/pandas-docs/stable/user_guide/indexing.html#returning-a-view-versus-a-copy\n",
      "  \n",
      "/usr/local/lib/python3.7/dist-packages/ipykernel_launcher.py:7: FutureWarning: Indexing with multiple keys (implicitly converted to a tuple of keys) will be deprecated, use a list instead.\n",
      "  import sys\n"
     ]
    },
    {
     "data": {
      "text/html": [
       "<div>\n",
       "<style scoped>\n",
       "    .dataframe tbody tr th:only-of-type {\n",
       "        vertical-align: middle;\n",
       "    }\n",
       "\n",
       "    .dataframe tbody tr th {\n",
       "        vertical-align: top;\n",
       "    }\n",
       "\n",
       "    .dataframe thead th {\n",
       "        text-align: right;\n",
       "    }\n",
       "</style>\n",
       "<table border=\"1\" class=\"dataframe\">\n",
       "  <thead>\n",
       "    <tr style=\"text-align: right;\">\n",
       "      <th></th>\n",
       "      <th>thalach</th>\n",
       "      <th>trestbps</th>\n",
       "      <th>chol</th>\n",
       "    </tr>\n",
       "    <tr>\n",
       "      <th>age_group</th>\n",
       "      <th></th>\n",
       "      <th></th>\n",
       "      <th></th>\n",
       "    </tr>\n",
       "  </thead>\n",
       "  <tbody>\n",
       "    <tr>\n",
       "      <th>40</th>\n",
       "      <td>150.500000</td>\n",
       "      <td>124.333333</td>\n",
       "      <td>220.000000</td>\n",
       "    </tr>\n",
       "    <tr>\n",
       "      <th>50</th>\n",
       "      <td>141.545455</td>\n",
       "      <td>126.272727</td>\n",
       "      <td>242.409091</td>\n",
       "    </tr>\n",
       "    <tr>\n",
       "      <th>60</th>\n",
       "      <td>141.106061</td>\n",
       "      <td>137.727273</td>\n",
       "      <td>254.878788</td>\n",
       "    </tr>\n",
       "    <tr>\n",
       "      <th>70</th>\n",
       "      <td>132.948718</td>\n",
       "      <td>135.282051</td>\n",
       "      <td>254.538462</td>\n",
       "    </tr>\n",
       "    <tr>\n",
       "      <th>80</th>\n",
       "      <td>162.000000</td>\n",
       "      <td>125.000000</td>\n",
       "      <td>304.000000</td>\n",
       "    </tr>\n",
       "  </tbody>\n",
       "</table>\n",
       "</div>"
      ],
      "text/plain": [
       "              thalach    trestbps        chol\n",
       "age_group                                    \n",
       "40         150.500000  124.333333  220.000000\n",
       "50         141.545455  126.272727  242.409091\n",
       "60         141.106061  137.727273  254.878788\n",
       "70         132.948718  135.282051  254.538462\n",
       "80         162.000000  125.000000  304.000000"
      ]
     },
     "execution_count": 768,
     "metadata": {
      "tags": []
     },
     "output_type": "execute_result"
    }
   ],
   "source": [
    "a = []\n",
    "for each in ds['age'].values:\n",
    "  a.append(\n",
    "          math.ceil(each/10) * 10\n",
    "      )\n",
    "ds['age_group'] = a\n",
    "ds_1 = ds.groupby(['age_group'])['thalach', 'trestbps', 'chol'].mean()\n",
    "ds_1.head() # create this variable for question 14"
   ]
  },
  {
   "cell_type": "markdown",
   "metadata": {
    "id": "P0DKbXLEyQ7F"
   },
   "source": [
    "#Question 10\n",
    "###Continue from question 3. Find the average cholesterol level of across gender for each age group. Please  explain the results. "
   ]
  },
  {
   "cell_type": "code",
   "execution_count": 769,
   "metadata": {
    "colab": {
     "base_uri": "https://localhost:8080/"
    },
    "executionInfo": {
     "elapsed": 5,
     "status": "ok",
     "timestamp": 1627242346191,
     "user": {
      "displayName": "Sumeragi",
      "photoUrl": "https://lh3.googleusercontent.com/a-/AOh14GiDqXsUdoyY8WHqOWBAY8uQQVJs10lBqioTQGQ5ig=s64",
      "userId": "17264957305028452462"
     },
     "user_tz": -600
    },
    "id": "u7h-FfurzDf2",
    "outputId": "5f45fd00-98c4-496f-fd2d-73942b4a721b"
   },
   "outputs": [
    {
     "name": "stdout",
     "output_type": "stream",
     "text": [
      "the average cholesterol level of across gender for each age group:\n"
     ]
    },
    {
     "data": {
      "text/plain": [
       "age_group  sex\n",
       "40         M      220.000000\n",
       "50         F      341.000000\n",
       "           M      237.714286\n",
       "60         F      280.583333\n",
       "           M      249.166667\n",
       "70         F      270.777778\n",
       "           M      249.666667\n",
       "80         M      304.000000\n",
       "Name: chol, dtype: float64"
      ]
     },
     "execution_count": 769,
     "metadata": {
      "tags": []
     },
     "output_type": "execute_result"
    }
   ],
   "source": [
    "print('the average cholesterol level of across gender for each age group:')\n",
    "ds.groupby(['age_group', 'sex'])['chol'].mean()"
   ]
  },
  {
   "cell_type": "markdown",
   "metadata": {
    "id": "6ppEKLkktzrQ"
   },
   "source": [
    "###The results tell us that in age group from 50 to 70, most of female patients has higher cholesterol level than male patients."
   ]
  },
  {
   "cell_type": "markdown",
   "metadata": {
    "id": "bIL09Q4cz1tU"
   },
   "source": [
    "#Question 11\n",
    "### Continue from question 3. Draw two scatter plots of cholesterol level, one against blood pressure and  another against heart rate. Draw them in two subplots of the same plot.  \n"
   ]
  },
  {
   "cell_type": "code",
   "execution_count": 770,
   "metadata": {
    "colab": {
     "base_uri": "https://localhost:8080/",
     "height": 0
    },
    "executionInfo": {
     "elapsed": 524,
     "status": "ok",
     "timestamp": 1627242346710,
     "user": {
      "displayName": "Sumeragi",
      "photoUrl": "https://lh3.googleusercontent.com/a-/AOh14GiDqXsUdoyY8WHqOWBAY8uQQVJs10lBqioTQGQ5ig=s64",
      "userId": "17264957305028452462"
     },
     "user_tz": -600
    },
    "id": "uwN4XdJFz7SR",
    "outputId": "6556a45a-08de-40d8-e4ba-9d26856635ef"
   },
   "outputs": [
    {
     "data": {
      "text/plain": [
       "<function matplotlib.pyplot.show>"
      ]
     },
     "execution_count": 770,
     "metadata": {
      "tags": []
     },
     "output_type": "execute_result"
    },
    {
     "data": {
      "image/png": "[encoded data removed]",
      "text/plain": [
       "<Figure size 432x288 with 1 Axes>"
      ]
     },
     "metadata": {
      "needs_background": "light",
      "tags": []
     },
     "output_type": "display_data"
    }
   ],
   "source": [
    "mp.figure()\n",
    "mp.scatter(ds['chol'].values, ds['trestbps'].values, c='red', label = 'trestbps')\n",
    "mp.scatter(ds['chol'].values, ds['thalach'].values, c='black', label = 'thalach')\n",
    "mp.xlabel('chol')\n",
    "mp.legend()\n",
    "mp.show"
   ]
  },
  {
   "cell_type": "markdown",
   "metadata": {
    "id": "zTrEPAUhz7jT"
   },
   "source": [
    "#Question 12\n",
    "###Visualize the cholesterol level against number of blood vessel blocked for male and female using line  plot. Explain the graph base on your observation. \n"
   ]
  },
  {
   "cell_type": "code",
   "execution_count": 771,
   "metadata": {
    "colab": {
     "base_uri": "https://localhost:8080/",
     "height": 0
    },
    "executionInfo": {
     "elapsed": 4,
     "status": "ok",
     "timestamp": 1627242346710,
     "user": {
      "displayName": "Sumeragi",
      "photoUrl": "https://lh3.googleusercontent.com/a-/AOh14GiDqXsUdoyY8WHqOWBAY8uQQVJs10lBqioTQGQ5ig=s64",
      "userId": "17264957305028452462"
     },
     "user_tz": -600
    },
    "id": "ji1i33TW0C33",
    "outputId": "212bba75-c84b-43d7-cc00-6cbe5591788e"
   },
   "outputs": [
    {
     "data": {
      "image/png": "[encoded data removed]",
      "text/plain": [
       "<Figure size 432x288 with 1 Axes>"
      ]
     },
     "metadata": {
      "needs_background": "light",
      "tags": []
     },
     "output_type": "display_data"
    }
   ],
   "source": [
    "a = ds[['sex', 'chol', 'ca']].copy()\n",
    "a = a.sort_values(by=['chol'], ascending = True)\n",
    "\n",
    "chol_m = list(a[a['sex']=='M']['chol'])\n",
    "chol_f = list(a[a['sex']=='F']['chol'])\n",
    "ca_m = list(a[a['sex']=='M']['ca'])\n",
    "ca_f = list(a[a['sex']=='F']['ca'])\n",
    "\n",
    "mp.plot(chol_m, ca_m, label = 'male', color='red')\n",
    "mp.plot(chol_f, ca_f, label = 'female', color='black')\n",
    "mp.legend()\n",
    "mp.xlabel('chol')\n",
    "mp.ylabel('ca')\n",
    "mp.show()"
   ]
  },
  {
   "cell_type": "markdown",
   "metadata": {
    "id": "pVL8zoz9Vw7K"
   },
   "source": [
    "###This result shows that compare with female patients, male patients shows more instability on relationship between cholesterol level and heart rate."
   ]
  },
  {
   "cell_type": "markdown",
   "metadata": {
    "id": "VKliqblh0DXU"
   },
   "source": [
    "#Question 13\n",
    "###Draw a group bar diagram of heart rate, blood pressure and total number of patients, based on age  groups defined in question 9. Explain your observation from the graph. \n"
   ]
  },
  {
   "cell_type": "code",
   "execution_count": 772,
   "metadata": {
    "colab": {
     "base_uri": "https://localhost:8080/",
     "height": 0
    },
    "executionInfo": {
     "elapsed": 507,
     "status": "ok",
     "timestamp": 1627242347214,
     "user": {
      "displayName": "Sumeragi",
      "photoUrl": "https://lh3.googleusercontent.com/a-/AOh14GiDqXsUdoyY8WHqOWBAY8uQQVJs10lBqioTQGQ5ig=s64",
      "userId": "17264957305028452462"
     },
     "user_tz": -600
    },
    "id": "gZzLqrr10HVy",
    "outputId": "2435f36c-d90b-4525-e6b2-269f1fbb79c7"
   },
   "outputs": [
    {
     "data": {
      "image/png": "[encoded data removed]",
      "text/plain": [
       "<Figure size 432x288 with 1 Axes>"
      ]
     },
     "metadata": {
      "needs_background": "light",
      "tags": []
     },
     "output_type": "display_data"
    }
   ],
   "source": [
    "a = ds[['age_group', 'thalach', 'trestbps']].copy()\n",
    "a = a.sort_values(by=['age_group'], ascending = True)\n",
    "b = a.groupby('age_group').mean()\n",
    "width = 3\n",
    "\n",
    "mp.bar(\n",
    "    x = b.index, \n",
    "    height=b['thalach'], \n",
    "    width = width, \n",
    "    label = 'heart rate mean', \n",
    "    color = 'black', \n",
    "    edgecolor = 'black'\n",
    "    )\n",
    "\n",
    "mp.bar(\n",
    "    x = b.index + width\n",
    "    , height=b['trestbps']\n",
    "    , width = width\n",
    "    , label = 'blood pressure mean'\n",
    "    , color = 'yellow'\n",
    "    , edgecolor = 'black'\n",
    "    )\n",
    "\n",
    "mp.bar(\n",
    "    x = b.index - width\n",
    "    , height=len(a)\n",
    "    , width = width\n",
    "    , label = 'Total umnber'\n",
    "    , color = 'red'\n",
    "    , edgecolor = 'black'\n",
    "    )\n",
    "\n",
    "mp.legend()\n",
    "mp.xlabel('Age')\n",
    "mp.show()\n"
   ]
  },
  {
   "cell_type": "markdown",
   "metadata": {
    "id": "i-h4_eZyI_k-"
   },
   "source": [
    "###Accoding to the bar chart, patients in age group from 70 to 80, trend to have higher heart rate, Also for those under 30, they trend to have higher heart rate. \n",
    "\n",
    "###For those Patients who are in group from 50 to 70, most of them have lower heart rate while higher blood pressure."
   ]
  },
  {
   "cell_type": "markdown",
   "metadata": {
    "id": "JSEuUJCPB8GW"
   },
   "source": [
    "#Question 14\n",
    "###Continue from question 9. Add two more columns named [‘num_male_patients’, ‘num_female_patients’]  and having values of the number of male and female patients affected by heart disease in each age  group respectively. Save the combined dataset to a csv file named ‘age_group_stat.csv’ in the same  directory of your code file. "
   ]
  },
  {
   "cell_type": "code",
   "execution_count": 773,
   "metadata": {
    "colab": {
     "base_uri": "https://localhost:8080/"
    },
    "executionInfo": {
     "elapsed": 7,
     "status": "ok",
     "timestamp": 1627242347214,
     "user": {
      "displayName": "Sumeragi",
      "photoUrl": "https://lh3.googleusercontent.com/a-/AOh14GiDqXsUdoyY8WHqOWBAY8uQQVJs10lBqioTQGQ5ig=s64",
      "userId": "17264957305028452462"
     },
     "user_tz": -600
    },
    "id": "LMkqPR9hB_-u",
    "outputId": "c97f3651-d565-438e-cdb0-0ec4a0fbbe67"
   },
   "outputs": [
    {
     "name": "stdout",
     "output_type": "stream",
     "text": [
      "age_group  state  sex\n",
      "40         1.0    M       3\n",
      "           3.0    M       2\n",
      "           4.0    M       1\n",
      "50         1.0    M      10\n",
      "           2.0    F       1\n",
      "                  M       4\n",
      "           3.0    M       6\n",
      "           4.0    M       1\n",
      "60         1.0    F       4\n",
      "                  M      24\n",
      "           2.0    F       4\n",
      "                  M      13\n",
      "           3.0    F       4\n",
      "                  M      12\n",
      "           4.0    M       5\n",
      "70         1.0    F       5\n",
      "                  M       9\n",
      "           2.0    F       1\n",
      "                  M      11\n",
      "           3.0    F       1\n",
      "                  M       7\n",
      "           4.0    F       2\n",
      "                  M       3\n",
      "80         4.0    M       1\n",
      "Name: sex, dtype: int64\n"
     ]
    }
   ],
   "source": [
    "a = ds[['age_group', 'sex', 'state']].groupby(['age_group','state','sex'])['sex'].count()\n",
    "print(a)\n",
    "a.to_csv('/content/drive/MyDrive/2021SIT720_assessment_1/age_group_stat.csv', index = True)"
   ]
  },
  {
   "cell_type": "markdown",
   "metadata": {
    "id": "KH0RE6FuCPh9"
   },
   "source": [
    "#Question 15\n",
    "###Continue from question 1. Replace all the rows where the ‘state’ is null with its immediate  previous row. Finally, display and save the resultant dataset to a csv file named  ‘clean_data.csv’ in the same directory of your code file. "
   ]
  },
  {
   "cell_type": "code",
   "execution_count": 774,
   "metadata": {
    "executionInfo": {
     "elapsed": 7,
     "status": "ok",
     "timestamp": 1627242347215,
     "user": {
      "displayName": "Sumeragi",
      "photoUrl": "https://lh3.googleusercontent.com/a-/AOh14GiDqXsUdoyY8WHqOWBAY8uQQVJs10lBqioTQGQ5ig=s64",
      "userId": "17264957305028452462"
     },
     "user_tz": -600
    },
    "id": "UCBF8RCuCUGt"
   },
   "outputs": [],
   "source": [
    "ds = dtemp_1.dropna(axis=0, how='any') # dtemp_1 is the dataset changed nothing but heart disease risk state (removed all 0)\n",
    "ds.to_csv('/content/drive/MyDrive/2021SIT720_assessment_1/clean_data.csv', index = False)"
   ]
  }
 ],
 "metadata": {
  "colab": {
   "authorship_tag": "ABX9TyNzh+4nIfN4a0ATgXZIJRIO",
   "collapsed_sections": [
    "aOH9Wf3jarZc",
    "sw4EhJmjaU3r",
    "P3-3rGXKn4ND",
    "r5KbLhi4LR2Y",
    "J_UXo12ZM3gT",
    "p8VUXZXAsV6G",
    "vMi4YJdAlt3b",
    "E6PosJlLXVIf",
    "VsiQ-KkUulPc",
    "yIqj2pc7r4p3",
    "hBFcNVNbwMRR",
    "RECF1Elu9V1Y",
    "P0DKbXLEyQ7F",
    "6ppEKLkktzrQ",
    "bIL09Q4cz1tU",
    "zTrEPAUhz7jT",
    "pVL8zoz9Vw7K",
    "VKliqblh0DXU",
    "i-h4_eZyI_k-",
    "JSEuUJCPB8GW",
    "KH0RE6FuCPh9"
   ],
   "name": "SIT720_A1_216327327.ipynb",
   "provenance": []
  },
  "kernelspec": {
   "display_name": "Python 3 (ipykernel)",
   "language": "python",
   "name": "python3"
  },
  "language_info": {
   "codemirror_mode": {
    "name": "ipython",
    "version": 3
   },
   "file_extension": ".py",
   "mimetype": "text/x-python",
   "name": "python",
   "nbconvert_exporter": "python",
   "pygments_lexer": "ipython3",
   "version": "3.10.9"
  }
 },
 "nbformat": 4,
 "nbformat_minor": 1
}
