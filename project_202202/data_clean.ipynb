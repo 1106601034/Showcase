{
 "cells": [
  {
   "cell_type": "code",
   "execution_count": 117,
   "id": "b1606da9",
   "metadata": {},
   "outputs": [],
   "source": [
    "import pandas as pd\n",
    "import os  "
   ]
  },
  {
   "cell_type": "code",
   "execution_count": 118,
   "id": "c0bed092",
   "metadata": {},
   "outputs": [],
   "source": [
    "df = pd.read_csv('fetching_suburbs_lockdownstage_fetching_suburbs_lockdownstage.csv')"
   ]
  },
  {
   "cell_type": "code",
   "execution_count": 119,
   "id": "a694e4dc",
   "metadata": {},
   "outputs": [
    {
     "data": {
      "text/plain": [
       "0    3218\n",
       "Name: Postcode, dtype: int64"
      ]
     },
     "execution_count": 119,
     "metadata": {},
     "output_type": "execute_result"
    }
   ],
   "source": [
    "df['Postcode'].head(1)"
   ]
  },
  {
   "cell_type": "code",
   "execution_count": 120,
   "id": "96a30524",
   "metadata": {},
   "outputs": [],
   "source": [
    "df.loc[df['Postcode'] == 3223, 'Suburb'] = 'Indented Head'"
   ]
  },
  {
   "cell_type": "code",
   "execution_count": 121,
   "id": "5fce2fe7",
   "metadata": {},
   "outputs": [],
   "source": [
    "df.loc[df['Postcode'] == 3223, 'Name'] = 'The Esplanade'"
   ]
  },
  {
   "cell_type": "code",
   "execution_count": 122,
   "id": "3dad7a17",
   "metadata": {},
   "outputs": [],
   "source": [
    "df.loc[df['Name'] == 'St Albans reserve rotunda', 'Suburb'] = 'East Geelong'"
   ]
  },
  {
   "cell_type": "code",
   "execution_count": 123,
   "id": "b20f0967",
   "metadata": {},
   "outputs": [],
   "source": [
    "df.loc[df['Postcode'] == 3220, 'Suburb'] = 'Geelong (Suburb)'"
   ]
  },
  {
   "cell_type": "code",
   "execution_count": 124,
   "id": "302be49a",
   "metadata": {},
   "outputs": [],
   "source": [
    "df.loc[df['Postcode'] == 3218, 'Suburb'] = 'Geelong (Suburb)'"
   ]
  },
  {
   "cell_type": "code",
   "execution_count": 125,
   "id": "e8d56b79",
   "metadata": {},
   "outputs": [],
   "source": [
    "df.loc[df['Date'] < '2020-03-31', 'Lockdown stage'] = 'Before Lockdown'\n",
    "df.loc[(df['Date'] >= '2020-05-12') & (df['Date'] < '2020-07-09') , 'Lockdown stage'] = 'Between 1&2'\n",
    "df.loc[(df['Date'] >= '2020-10-28') & (df['Date'] < '2021-02-13') , 'Lockdown stage'] = 'Between 2&3'\n",
    "df.loc[(df['Date'] >= '2021-02-18') & (df['Date'] < '2021-05-28') , 'Lockdown stage'] = 'Between 3&4'\n",
    "df.loc[(df['Date'] >= '2021-06-11') & (df['Date'] < '2021-07-16') , 'Lockdown stage'] = 'Between 4&5'\n",
    "df.loc[(df['Date'] >= '2021-07-28') & (df['Date'] < '2021-08-05 20:00:00') , 'Lockdown stage'] = 'Between 5&6'"
   ]
  },
  {
   "cell_type": "code",
   "execution_count": 126,
   "id": "db986fdc",
   "metadata": {},
   "outputs": [
    {
     "data": {
      "text/plain": [
       "array(['Between 1&2', 'Before Lockdown', 'Between 2&3', 'Between 3&4',\n",
       "       'Lockdown-6', 'Lockdown-3', 'Open', 'Lockdown-4', 'Lockdown-2',\n",
       "       'Lockdown-5', 'Lockdown-1', 'Between 4&5', 'Between 5&6'],\n",
       "      dtype=object)"
      ]
     },
     "execution_count": 126,
     "metadata": {},
     "output_type": "execute_result"
    }
   ],
   "source": [
    "df['Lockdown stage'].unique()"
   ]
  },
  {
   "cell_type": "code",
   "execution_count": 127,
   "id": "df2cd946",
   "metadata": {},
   "outputs": [],
   "source": [
    "df_clean = df.drop(df[df['Postcode'] == 3223].index)"
   ]
  },
  {
   "cell_type": "code",
   "execution_count": 128,
   "id": "635fb45c",
   "metadata": {},
   "outputs": [
    {
     "data": {
      "text/plain": [
       "array(['Geelong (Suburb)', 'East Geelong', 'Rippleside', 'Belmont'],\n",
       "      dtype=object)"
      ]
     },
     "execution_count": 128,
     "metadata": {},
     "output_type": "execute_result"
    }
   ],
   "source": [
    "df_clean['Suburb'].unique()"
   ]
  },
  {
   "cell_type": "code",
   "execution_count": 129,
   "id": "8b68a1be",
   "metadata": {},
   "outputs": [],
   "source": [
    "os.makedirs('folder/subfolder', exist_ok=True)  \n",
    "df_clean.to_csv('folder/subfolder/fetching_suburbs_lockdownstage_fetching_suburbs_lockdownstage.csv')  "
   ]
  }
 ],
 "metadata": {
  "kernelspec": {
   "display_name": "Python 3 (ipykernel)",
   "language": "python",
   "name": "python3"
  },
  "language_info": {
   "codemirror_mode": {
    "name": "ipython",
    "version": 3
   },
   "file_extension": ".py",
   "mimetype": "text/x-python",
   "name": "python",
   "nbconvert_exporter": "python",
   "pygments_lexer": "ipython3",
   "version": "3.10.9"
  }
 },
 "nbformat": 4,
 "nbformat_minor": 5
}
